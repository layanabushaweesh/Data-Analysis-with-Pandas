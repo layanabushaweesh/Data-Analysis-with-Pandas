{
 "cells": [
  {
   "cell_type": "markdown",
   "id": "08609f45-2647-4058-866b-4eca649566e7",
   "metadata": {},
   "source": [
    "## using panda for data analaysis¶"
   ]
  },
  {
   "cell_type": "code",
   "execution_count": 2,
   "id": "92975fa1-4365-490f-9fdd-7cd8244e0ec3",
   "metadata": {},
   "outputs": [],
   "source": [
    "import pandas as pd\n",
    "import numpy as np"
   ]
  },
  {
   "cell_type": "code",
   "execution_count": 5,
   "id": "59911c35-9b62-4772-bdbd-5c14c0cde41d",
   "metadata": {},
   "outputs": [],
   "source": [
    "df=pd.read_csv('./station.csv')"
   ]
  },
  {
   "cell_type": "code",
   "execution_count": 8,
   "id": "42208f55-da0b-4829-a3a7-c9c49831662e",
   "metadata": {},
   "outputs": [],
   "source": [
    "df_weather=pd.read_csv('./weather.csv')"
   ]
  },
  {
   "cell_type": "code",
   "execution_count": 10,
   "id": "fc2276a2-e01c-4e77-8b4e-ad16ad4f50f4",
   "metadata": {},
   "outputs": [],
   "source": [
    "df_trip = pd.read_csv('./trip.csv', error_bad_lines=False ,warn_bad_lines=False)"
   ]
  },
  {
   "cell_type": "markdown",
   "id": "def0c442-4748-451b-9b6a-efc25ea6daf2",
   "metadata": {},
   "source": [
    "## q 1What is the average trip duration for a borrowed bicycle?"
   ]
  },
  {
   "cell_type": "code",
   "execution_count": 15,
   "id": "5fc4ae9a-7cad-46ea-a2d8-cb9a10cc82c7",
   "metadata": {},
   "outputs": [
    {
     "name": "stdout",
     "output_type": "stream",
     "text": [
      "----> 1178.2956753399776\n"
     ]
    }
   ],
   "source": [
    "average_trip=df_trip[\"tripduration\"].mean()\n",
    "print(f\"----> {average_trip}\")"
   ]
  },
  {
   "cell_type": "markdown",
   "id": "dc5e85f6-6475-4110-a4d8-c8616ffe4f4a",
   "metadata": {},
   "source": [
    "## q2 What’s the most common age of a bicycle-sharer?"
   ]
  },
  {
   "cell_type": "code",
   "execution_count": 25,
   "id": "2b4c8dd2-1b40-4190-bbbb-69bf8f36c717",
   "metadata": {},
   "outputs": [
    {
     "name": "stdout",
     "output_type": "stream",
     "text": [
      "----> 0    33.0\n",
      "dtype: float64\n"
     ]
    }
   ],
   "source": [
    "common_age= 2020 - df_trip['birthyear'].mode()\n",
    "print(f\"----> {common_age}\")"
   ]
  },
  {
   "cell_type": "markdown",
   "id": "b649ad48-3566-4f9a-83a4-fb256c161ff4",
   "metadata": {},
   "source": [
    "## q3 Given all the weather data here, find the average precipitation per month, and the median precipitation."
   ]
  },
  {
   "cell_type": "code",
   "execution_count": 27,
   "id": "3ccb596a-2fda-43eb-a0b3-3b60343e080b",
   "metadata": {},
   "outputs": [
    {
     "name": "stdout",
     "output_type": "stream",
     "text": [
      "the median is 0.0 and the average is 0.10506531204644412\n"
     ]
    }
   ],
   "source": [
    "median_precipitationd=df_weather[\"Precipitation_In\"].median()\n",
    "mean_precipitationdn=df_weather[\"Precipitation_In\"].mean()\n",
    "\n",
    "print(f\"the median is {median_precipitationd} and the average is {mean_precipitationdn}\")"
   ]
  },
  {
   "cell_type": "markdown",
   "id": "0302be24-6bb4-4ffb-9197-53694df22050",
   "metadata": {},
   "source": [
    "## q4 What’s the average number of bikes at a given bike station?"
   ]
  },
  {
   "cell_type": "code",
   "execution_count": 30,
   "id": "7fe74742-6c52-42b6-9047-9d8971fa3457",
   "metadata": {},
   "outputs": [
    {
     "name": "stdout",
     "output_type": "stream",
     "text": [
      "----> 17.586206896551722\n"
     ]
    }
   ],
   "source": [
    "bike_station = df['install_dockcount'].mean()\n",
    "print(f\"----> {bike_station}\")"
   ]
  },
  {
   "cell_type": "markdown",
   "id": "81c59c1c-759d-4bf5-9ef7-a378a3599631",
   "metadata": {},
   "source": [
    "## q5 When a bike station is modified, is it more likely that it’ll lose bikes or gain bikes? How do you know?"
   ]
  },
  {
   "cell_type": "code",
   "execution_count": 36,
   "id": "682a875c-95b2-4e4c-9378-caaca0f670f4",
   "metadata": {},
   "outputs": [
    {
     "name": "stdout",
     "output_type": "stream",
     "text": [
      "negative tha mean it will lose bikes -64\n"
     ]
    }
   ],
   "source": [
    "#The dropna() function is used to remove missing values\n",
    "bike_station__modified = df[['modification_date','install_dockcount','current_dockcount']].dropna()\n",
    "current_place = bike_station__modified['current_dockcount'].sum()\n",
    "new_place = bike_station__modified['install_dockcount'].sum()\n",
    "result=current_place - new_place\n",
    "# negative tha mean it will lose bikes\n",
    "print(f\"negative tha mean it will lose bikes {result}\")"
   ]
  },
  {
   "cell_type": "markdown",
   "id": "07b63b9d-dd16-4db5-92f5-a3b3f620b7c4",
   "metadata": {},
   "source": [
    "## q6 Come up with 3 more questions that can be answered with this data set.\n"
   ]
  },
  {
   "cell_type": "code",
   "execution_count": 37,
   "id": "ddad723a-e5b6-4bba-a00d-feb841ecdefd",
   "metadata": {},
   "outputs": [
    {
     "data": {
      "text/html": [
       "<div>\n",
       "<style scoped>\n",
       "    .dataframe tbody tr th:only-of-type {\n",
       "        vertical-align: middle;\n",
       "    }\n",
       "\n",
       "    .dataframe tbody tr th {\n",
       "        vertical-align: top;\n",
       "    }\n",
       "\n",
       "    .dataframe thead th {\n",
       "        text-align: right;\n",
       "    }\n",
       "</style>\n",
       "<table border=\"1\" class=\"dataframe\">\n",
       "  <thead>\n",
       "    <tr style=\"text-align: right;\">\n",
       "      <th></th>\n",
       "      <th>Date</th>\n",
       "      <th>Max_Temperature_F</th>\n",
       "      <th>Mean_Temperature_F</th>\n",
       "      <th>Min_TemperatureF</th>\n",
       "      <th>Max_Dew_Point_F</th>\n",
       "      <th>MeanDew_Point_F</th>\n",
       "      <th>Min_Dewpoint_F</th>\n",
       "      <th>Max_Humidity</th>\n",
       "      <th>Mean_Humidity</th>\n",
       "      <th>Min_Humidity</th>\n",
       "      <th>...</th>\n",
       "      <th>Mean_Sea_Level_Pressure_In</th>\n",
       "      <th>Min_Sea_Level_Pressure_In</th>\n",
       "      <th>Max_Visibility_Miles</th>\n",
       "      <th>Mean_Visibility_Miles</th>\n",
       "      <th>Min_Visibility_Miles</th>\n",
       "      <th>Max_Wind_Speed_MPH</th>\n",
       "      <th>Mean_Wind_Speed_MPH</th>\n",
       "      <th>Max_Gust_Speed_MPH</th>\n",
       "      <th>Precipitation_In</th>\n",
       "      <th>Events</th>\n",
       "    </tr>\n",
       "  </thead>\n",
       "  <tbody>\n",
       "    <tr>\n",
       "      <th>78</th>\n",
       "      <td>12/30/2014</td>\n",
       "      <td>39</td>\n",
       "      <td>34.0</td>\n",
       "      <td>30</td>\n",
       "      <td>24</td>\n",
       "      <td>17</td>\n",
       "      <td>14</td>\n",
       "      <td>73</td>\n",
       "      <td>51</td>\n",
       "      <td>35</td>\n",
       "      <td>...</td>\n",
       "      <td>30.81</td>\n",
       "      <td>30.75</td>\n",
       "      <td>10</td>\n",
       "      <td>10</td>\n",
       "      <td>10</td>\n",
       "      <td>6</td>\n",
       "      <td>1</td>\n",
       "      <td>-</td>\n",
       "      <td>0.00</td>\n",
       "      <td>NaN</td>\n",
       "    </tr>\n",
       "    <tr>\n",
       "      <th>448</th>\n",
       "      <td>1/4/2016</td>\n",
       "      <td>39</td>\n",
       "      <td>38.0</td>\n",
       "      <td>37</td>\n",
       "      <td>34</td>\n",
       "      <td>33</td>\n",
       "      <td>32</td>\n",
       "      <td>87</td>\n",
       "      <td>83</td>\n",
       "      <td>76</td>\n",
       "      <td>...</td>\n",
       "      <td>29.77</td>\n",
       "      <td>29.67</td>\n",
       "      <td>10</td>\n",
       "      <td>6</td>\n",
       "      <td>2</td>\n",
       "      <td>8</td>\n",
       "      <td>1</td>\n",
       "      <td>NaN</td>\n",
       "      <td>0.07</td>\n",
       "      <td>Rain</td>\n",
       "    </tr>\n",
       "    <tr>\n",
       "      <th>412</th>\n",
       "      <td>11/29/2015</td>\n",
       "      <td>39</td>\n",
       "      <td>34.0</td>\n",
       "      <td>30</td>\n",
       "      <td>34</td>\n",
       "      <td>31</td>\n",
       "      <td>25</td>\n",
       "      <td>93</td>\n",
       "      <td>87</td>\n",
       "      <td>79</td>\n",
       "      <td>...</td>\n",
       "      <td>30.21</td>\n",
       "      <td>30.16</td>\n",
       "      <td>3</td>\n",
       "      <td>1</td>\n",
       "      <td>0</td>\n",
       "      <td>7</td>\n",
       "      <td>2</td>\n",
       "      <td>NaN</td>\n",
       "      <td>0.00</td>\n",
       "      <td>Fog</td>\n",
       "    </tr>\n",
       "  </tbody>\n",
       "</table>\n",
       "<p>3 rows × 21 columns</p>\n",
       "</div>"
      ],
      "text/plain": [
       "           Date  Max_Temperature_F  Mean_Temperature_F  Min_TemperatureF  \\\n",
       "78   12/30/2014                 39                34.0                30   \n",
       "448    1/4/2016                 39                38.0                37   \n",
       "412  11/29/2015                 39                34.0                30   \n",
       "\n",
       "     Max_Dew_Point_F  MeanDew_Point_F  Min_Dewpoint_F  Max_Humidity  \\\n",
       "78                24               17              14            73   \n",
       "448               34               33              32            87   \n",
       "412               34               31              25            93   \n",
       "\n",
       "     Mean_Humidity  Min_Humidity  ...  Mean_Sea_Level_Pressure_In  \\\n",
       "78              51            35  ...                       30.81   \n",
       "448             83            76  ...                       29.77   \n",
       "412             87            79  ...                       30.21   \n",
       "\n",
       "     Min_Sea_Level_Pressure_In  Max_Visibility_Miles  Mean_Visibility_Miles  \\\n",
       "78                       30.75                    10                     10   \n",
       "448                      29.67                    10                      6   \n",
       "412                      30.16                     3                      1   \n",
       "\n",
       "     Min_Visibility_Miles  Max_Wind_Speed_MPH  Mean_Wind_Speed_MPH  \\\n",
       "78                     10                   6                    1   \n",
       "448                     2                   8                    1   \n",
       "412                     0                   7                    2   \n",
       "\n",
       "     Max_Gust_Speed_MPH Precipitation_In  Events  \n",
       "78                    -             0.00     NaN  \n",
       "448                 NaN             0.07    Rain  \n",
       "412                 NaN             0.00     Fog  \n",
       "\n",
       "[3 rows x 21 columns]"
      ]
     },
     "execution_count": 37,
     "metadata": {},
     "output_type": "execute_result"
    }
   ],
   "source": [
    "# what is the max 3 temperature ?\n",
    "max_temp = df_weather.sort_values(\"Max_Temperature_F\",ascending=True).head(3)\n",
    "max_temp"
   ]
  },
  {
   "cell_type": "code",
   "execution_count": 39,
   "id": "32f06c84-e3e6-491c-ba62-147c87d88f52",
   "metadata": {},
   "outputs": [
    {
     "data": {
      "text/html": [
       "<div>\n",
       "<style scoped>\n",
       "    .dataframe tbody tr th:only-of-type {\n",
       "        vertical-align: middle;\n",
       "    }\n",
       "\n",
       "    .dataframe tbody tr th {\n",
       "        vertical-align: top;\n",
       "    }\n",
       "\n",
       "    .dataframe thead th {\n",
       "        text-align: right;\n",
       "    }\n",
       "</style>\n",
       "<table border=\"1\" class=\"dataframe\">\n",
       "  <thead>\n",
       "    <tr style=\"text-align: right;\">\n",
       "      <th></th>\n",
       "      <th>Date</th>\n",
       "      <th>Max_Temperature_F</th>\n",
       "      <th>Mean_Temperature_F</th>\n",
       "      <th>Min_TemperatureF</th>\n",
       "      <th>Max_Dew_Point_F</th>\n",
       "      <th>MeanDew_Point_F</th>\n",
       "      <th>Min_Dewpoint_F</th>\n",
       "      <th>Max_Humidity</th>\n",
       "      <th>Mean_Humidity</th>\n",
       "      <th>Min_Humidity</th>\n",
       "      <th>...</th>\n",
       "      <th>Mean_Sea_Level_Pressure_In</th>\n",
       "      <th>Min_Sea_Level_Pressure_In</th>\n",
       "      <th>Max_Visibility_Miles</th>\n",
       "      <th>Mean_Visibility_Miles</th>\n",
       "      <th>Min_Visibility_Miles</th>\n",
       "      <th>Max_Wind_Speed_MPH</th>\n",
       "      <th>Mean_Wind_Speed_MPH</th>\n",
       "      <th>Max_Gust_Speed_MPH</th>\n",
       "      <th>Precipitation_In</th>\n",
       "      <th>Events</th>\n",
       "    </tr>\n",
       "  </thead>\n",
       "  <tbody>\n",
       "    <tr>\n",
       "      <th>446</th>\n",
       "      <td>1/2/2016</td>\n",
       "      <td>44</td>\n",
       "      <td>34.0</td>\n",
       "      <td>23</td>\n",
       "      <td>30</td>\n",
       "      <td>23</td>\n",
       "      <td>13</td>\n",
       "      <td>96</td>\n",
       "      <td>73</td>\n",
       "      <td>33</td>\n",
       "      <td>...</td>\n",
       "      <td>30.19</td>\n",
       "      <td>30.11</td>\n",
       "      <td>10</td>\n",
       "      <td>9</td>\n",
       "      <td>6</td>\n",
       "      <td>8</td>\n",
       "      <td>2</td>\n",
       "      <td>NaN</td>\n",
       "      <td>0.0</td>\n",
       "      <td>NaN</td>\n",
       "    </tr>\n",
       "    <tr>\n",
       "      <th>445</th>\n",
       "      <td>1/1/2016</td>\n",
       "      <td>44</td>\n",
       "      <td>34.0</td>\n",
       "      <td>25</td>\n",
       "      <td>30</td>\n",
       "      <td>25</td>\n",
       "      <td>21</td>\n",
       "      <td>92</td>\n",
       "      <td>76</td>\n",
       "      <td>43</td>\n",
       "      <td>...</td>\n",
       "      <td>30.38</td>\n",
       "      <td>30.27</td>\n",
       "      <td>10</td>\n",
       "      <td>10</td>\n",
       "      <td>6</td>\n",
       "      <td>5</td>\n",
       "      <td>1</td>\n",
       "      <td>NaN</td>\n",
       "      <td>0.0</td>\n",
       "      <td>NaN</td>\n",
       "    </tr>\n",
       "    <tr>\n",
       "      <th>411</th>\n",
       "      <td>11/28/2015</td>\n",
       "      <td>46</td>\n",
       "      <td>36.0</td>\n",
       "      <td>26</td>\n",
       "      <td>31</td>\n",
       "      <td>26</td>\n",
       "      <td>21</td>\n",
       "      <td>86</td>\n",
       "      <td>75</td>\n",
       "      <td>50</td>\n",
       "      <td>...</td>\n",
       "      <td>30.29</td>\n",
       "      <td>30.22</td>\n",
       "      <td>10</td>\n",
       "      <td>8</td>\n",
       "      <td>2</td>\n",
       "      <td>6</td>\n",
       "      <td>1</td>\n",
       "      <td>NaN</td>\n",
       "      <td>0.0</td>\n",
       "      <td>Snow</td>\n",
       "    </tr>\n",
       "  </tbody>\n",
       "</table>\n",
       "<p>3 rows × 21 columns</p>\n",
       "</div>"
      ],
      "text/plain": [
       "           Date  Max_Temperature_F  Mean_Temperature_F  Min_TemperatureF  \\\n",
       "446    1/2/2016                 44                34.0                23   \n",
       "445    1/1/2016                 44                34.0                25   \n",
       "411  11/28/2015                 46                36.0                26   \n",
       "\n",
       "     Max_Dew_Point_F  MeanDew_Point_F  Min_Dewpoint_F  Max_Humidity  \\\n",
       "446               30               23              13            96   \n",
       "445               30               25              21            92   \n",
       "411               31               26              21            86   \n",
       "\n",
       "     Mean_Humidity  Min_Humidity  ...  Mean_Sea_Level_Pressure_In  \\\n",
       "446             73            33  ...                       30.19   \n",
       "445             76            43  ...                       30.38   \n",
       "411             75            50  ...                       30.29   \n",
       "\n",
       "     Min_Sea_Level_Pressure_In  Max_Visibility_Miles  Mean_Visibility_Miles  \\\n",
       "446                      30.11                    10                      9   \n",
       "445                      30.27                    10                     10   \n",
       "411                      30.22                    10                      8   \n",
       "\n",
       "     Min_Visibility_Miles  Max_Wind_Speed_MPH  Mean_Wind_Speed_MPH  \\\n",
       "446                     6                   8                    2   \n",
       "445                     6                   5                    1   \n",
       "411                     2                   6                    1   \n",
       "\n",
       "     Max_Gust_Speed_MPH Precipitation_In  Events  \n",
       "446                 NaN              0.0     NaN  \n",
       "445                 NaN              0.0     NaN  \n",
       "411                 NaN              0.0    Snow  \n",
       "\n",
       "[3 rows x 21 columns]"
      ]
     },
     "execution_count": 39,
     "metadata": {},
     "output_type": "execute_result"
    }
   ],
   "source": [
    "# what is the min 3 temperature ?\n",
    "min_temp = df_weather.sort_values(\"Min_TemperatureF\",ascending=True).head(3)\n",
    "min_temp"
   ]
  },
  {
   "cell_type": "code",
   "execution_count": null,
   "id": "241a5356-9758-4236-95ff-7dc10393ad7b",
   "metadata": {},
   "outputs": [],
   "source": [
    "# what is the short trip ?\n",
    "short_trip = df_trip['tripduration'].max()\n",
    "lon_trip"
   ]
  }
 ],
 "metadata": {
  "kernelspec": {
   "display_name": "Python 3",
   "language": "python",
   "name": "python3"
  },
  "language_info": {
   "codemirror_mode": {
    "name": "ipython",
    "version": 3
   },
   "file_extension": ".py",
   "mimetype": "text/x-python",
   "name": "python",
   "nbconvert_exporter": "python",
   "pygments_lexer": "ipython3",
   "version": "3.9.4"
  }
 },
 "nbformat": 4,
 "nbformat_minor": 5
}
